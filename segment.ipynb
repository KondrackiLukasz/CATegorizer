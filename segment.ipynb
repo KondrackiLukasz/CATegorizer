{
 "cells": [
  {
   "cell_type": "code",
   "execution_count": 6,
   "metadata": {
    "collapsed": true,
    "ExecuteTime": {
     "end_time": "2023-05-24T11:39:51.900952900Z",
     "start_time": "2023-05-24T11:39:39.141454200Z"
    }
   },
   "outputs": [
    {
     "name": "stdout",
     "output_type": "stream",
     "text": [
      "final text_encoder_type: bert-base-uncased\n"
     ]
    },
    {
     "name": "stderr",
     "output_type": "stream",
     "text": [
      "Some weights of the model checkpoint at bert-base-uncased were not used when initializing BertModel: ['cls.seq_relationship.weight', 'cls.predictions.bias', 'cls.predictions.transform.LayerNorm.weight', 'cls.seq_relationship.bias', 'cls.predictions.transform.dense.bias', 'cls.predictions.transform.dense.weight', 'cls.predictions.transform.LayerNorm.bias']\n",
      "- This IS expected if you are initializing BertModel from the checkpoint of a model trained on another task or with another architecture (e.g. initializing a BertForSequenceClassification model from a BertForPreTraining model).\n",
      "- This IS NOT expected if you are initializing BertModel from the checkpoint of a model that you expect to be exactly identical (initializing a BertForSequenceClassification model from a BertForSequenceClassification model).\n"
     ]
    },
    {
     "name": "stdout",
     "output_type": "stream",
     "text": [
      "Model loaded from C:\\Users\\lukasz\\.cache\\huggingface\\hub\\models--ShilongLiu--GroundingDINO\\snapshots\\a94c9b567a2a374598f05c584e96798a170c56fb\\groundingdino_swinb_cogcoor.pth \n",
      " => _IncompatibleKeys(missing_keys=[], unexpected_keys=['label_enc.weight'])\n"
     ]
    }
   ],
   "source": [
    "from PIL import Image\n",
    "from lang_sam import LangSAM\n",
    "import os\n",
    "import numpy as np\n",
    "\n",
    "model = LangSAM()"
   ]
  },
  {
   "cell_type": "code",
   "execution_count": 7,
   "outputs": [],
   "source": [
    "input_base_dir = 'data/raw/'\n",
    "output_base_dir = 'data/segmented/'\n",
    "\n",
    "text_prompt = \"animal\"\n",
    "\n",
    "subdirs = [d for d in os.listdir(input_base_dir) if os.path.isdir(os.path.join(input_base_dir, d)) and d != 'SPLIT3']\n",
    "\n",
    "for subdir in subdirs:\n",
    "    input_dir = os.path.join(input_base_dir, subdir)\n",
    "    output_dir = os.path.join(output_base_dir, subdir)\n",
    "\n",
    "    if not os.path.exists(output_dir):\n",
    "        os.makedirs(output_dir)\n",
    "\n",
    "    for filename in os.listdir(input_dir):\n",
    "        if filename.endswith(\".jpg\"):\n",
    "            output_image_path = os.path.join(output_dir, filename)\n",
    "\n",
    "            # Check if the file already exists in the output directory\n",
    "            if os.path.exists(output_image_path):\n",
    "                # print(f\"Skipping {filename}, already segmented\")\n",
    "                continue\n",
    "\n",
    "            # Read the image\n",
    "            image_path = os.path.join(input_dir, filename)\n",
    "            img_pil = Image.open(image_path).convert(\"RGB\")\n",
    "\n",
    "            masks, boxes, phrases, logits = model.predict(img_pil, text_prompt)\n",
    "\n",
    "            if masks.dim() > 1:\n",
    "                masks = masks.squeeze()\n",
    "                if masks.dim() < 3:  # if masks is 2D\n",
    "                    masks = masks.unsqueeze(0)  # make it 3D\n",
    "\n",
    "                mask_combined = np.logical_or.reduce(masks.numpy())\n",
    "                mask_3channel = np.repeat(mask_combined[:, :, np.newaxis], 3, axis=2)\n",
    "\n",
    "                # Get the segmented dog image by multiplying (elementwise) the original image with the mask\n",
    "                segmented_dog = np.array(img_pil) * mask_3channel\n",
    "\n",
    "                # Create a new dark image with the same size\n",
    "                dark_img = np.zeros_like(img_pil)\n",
    "\n",
    "                # Paste the segmented dog onto the dark image\n",
    "                final_img = dark_img + segmented_dog\n",
    "\n",
    "                # Convert back to PIL image\n",
    "                final_img_pil = Image.fromarray(final_img.astype(np.uint8))\n",
    "\n",
    "                # Save the final image\n",
    "                final_img_pil.save(output_image_path)\n",
    "                print(filename + \" saved\")\n",
    "            else:\n",
    "                print(\"No cat detected in \" + filename)"
   ],
   "metadata": {
    "collapsed": false,
    "ExecuteTime": {
     "end_time": "2023-05-24T11:39:52.025956700Z",
     "start_time": "2023-05-24T11:39:51.907951400Z"
    }
   }
  }
 ],
 "metadata": {
  "kernelspec": {
   "display_name": "Python 3",
   "language": "python",
   "name": "python3"
  },
  "language_info": {
   "codemirror_mode": {
    "name": "ipython",
    "version": 2
   },
   "file_extension": ".py",
   "mimetype": "text/x-python",
   "name": "python",
   "nbconvert_exporter": "python",
   "pygments_lexer": "ipython2",
   "version": "2.7.6"
  }
 },
 "nbformat": 4,
 "nbformat_minor": 0
}
